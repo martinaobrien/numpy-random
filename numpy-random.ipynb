{
 "cells": [
  {
   "cell_type": "markdown",
   "metadata": {},
   "source": [
    "# Investigation of numpy.random package\n",
    "\n",
    "Submitted as part of the requirements for the GMIT Higher Diploma in Data Analysis as part of the module Programme for Data Analysis 2019"
   ]
  },
  {
   "cell_type": "markdown",
   "metadata": {},
   "source": [
    "![JupyterSymbols](img/Header%20Image.png)\n",
    "\n",
    "#### Table of Contents: \n",
    "- Introduction to Numpy\n",
    "- Section 1: Explain the use of the overall purpose of the numpy.random package \n",
    "- Section 2: Explain the use of \"Single Random Data\" and \"Premutations\" functions\n",
    "- Section 3: Explain the use and purpose of a least five \"Distributions\" functions\n",
    "                    #### Function 1\n",
    "                    #### Function 2\n",
    "                    #### Function 3\n",
    "                    #### Function 4\n",
    "                    #### Function 5\n",
    "- Section 4: Explain the use of seeds in generating pseudorandom numbers\n",
    "- References\n",
    "\n",
    "##### Note: Throughout the notebook, the numpy package (import numpy as py) is called in each section to ensure the notebook and its explainations are accessible to the users. "
   ]
  },
  {
   "cell_type": "markdown",
   "metadata": {},
   "source": [
    "## Introduction to Numpy\n",
    "\n",
    "NumPy (Numerical Python) is an open source add on package to Python. The overall purpose of the package is to provide mathematical and numerical routines through precompiled fast functions [(1)](#ref1). Developed in the 2000's, NumPy is seen as a fundamental computing package crucial for data analysis and machine learning objects due to its efficiency and ability to interface with other packages within the Python library such as pandas and matplotlib.  \n",
    "\n",
    "The NumPy package proivdes\n",
    " - \"homogenous multidimensional arrays\"(2),\n",
    " - outputed through various derived objects (matrices and vectors) and,\n",
    " - numerous computations for fast operations on the aforementioned arrays (random selections, shape manipulation, statistical operations) (3). \n",
    " \n",
    "These arrays can be accessed and manipulated similiarly to the list function and must be of one data type i.e. integer, string etc."
   ]
  },
  {
   "cell_type": "markdown",
   "metadata": {},
   "source": [
    "## Section 1: Purpose of numpy.random package\n",
    "\n",
    "The numpy.random package is a function within the NumPy package for doing random sampling computations that returns arrays of specified shapes and sizes. The following section will outline key functions with the numpy.random package as outlined on the NumPy documentation on Scipy.org (4) [Version 1.15](https://docs.scipy.org/doc/numpy-1.15.1/reference/routines.random.html).\n",
    "\n",
    "#### The sections of the numpy.random package are: "
   ]
  },
  {
   "cell_type": "markdown",
   "metadata": {},
   "source": [
    "<table>\n",
    "  <tr>\n",
    "    <th style=\"border:1px solid; text-align:center\">Sections </th>\n",
    "    <th style=\"border:1px solid; text-align:center\">No of Functions </th>\n",
    "    <th style=\"border:1px solid ; text-align:center\">Brief Descriptions </th>\n",
    "  </tr>\n",
    "  <tr>\n",
    "    <td style=\"border:1px solid; text-align:center\">Random Sample Data </td>\n",
    "    <td style=\"border:1px solid; text-align:center\">10 functions</td>\n",
    "    <td style=\"border:1px solid ; text-align:center\">Random data computations on specified arrays</td>\n",
    "  </tr>\n",
    "  <tr>\n",
    "    <td style=\"border:1px solid; text-align:center\">Permutations</td>\n",
    "    <td style=\"border:1px solid; text-align:center\">2 functions</td>\n",
    "    <td style=\"border:1px solid ; text-align:center\">Alters the sequence of generated outputs within arrays</td>\n",
    "  </tr>\n",
    "  <tr>\n",
    "    <td style=\"border:1px solid; text-align:center\">Distributions</td>\n",
    "    <td style=\"border:1px solid; text-align:center\">35 functions</td>\n",
    "    <td style=\"border:1px solid ; text-align:center\">Determines the occurance of variables accross defined parameters within arrays</td>\n",
    "  </tr>\n",
    "  <tr>\n",
    "    <td style=\"border:1px solid; text-align:center\">Random Generator</td>\n",
    "    <td style=\"border:1px solid; text-align:center\">4 functions </td>\n",
    "    <td style=\"border:1px solid; text-align:center\">Determining the probability of occurance within arrays</td>\n",
    "  </tr>\n",
    "</table>"
   ]
  },
  {
   "cell_type": "markdown",
   "metadata": {},
   "source": [
    "|Sections |No of Functions |Brief Descriptions |\n",
    "|:-:|:-:|:-:| \n",
    "|Random Sample Data | 10 functions |Random data computations on specified arrays\n",
    "|Permutations | 2 functions | Alters the sequence of generated outputs within arrays\n",
    "|Distributions |35 functions |Determines the occurance of variables accross defined parameters within arrays\n",
    "|Random Generator | 4 functions | Determining the probability of occurance within arrays"
   ]
  },
  {
   "cell_type": "markdown",
   "metadata": {},
   "source": [
    "#### Importing the NumPy Package\n",
    "\n",
    "To begin working with the NumPy Package, it first has to be installed. In this notebook, the Numpy Package was imported throught the Anaconda package."
   ]
  },
  {
   "cell_type": "code",
   "execution_count": 2,
   "metadata": {},
   "outputs": [],
   "source": [
    "import numpy as np # importing the package for use in the notebook"
   ]
  },
  {
   "cell_type": "markdown",
   "metadata": {},
   "source": [
    "## Section 2: Explanation of Functions\n",
    "### (a) Simple Random Data\n",
    "\n",
    "The Simple Random Data within Numpy is a range of precompiled computations that will generate random numbers of the same types that is held within arrays. This arrays are usually drawn from \"commonly used distributions:Uniform, Normal (Gaussian), Binomial and Poission\"(5). \n",
    "\n",
    "There are 10 functions within the Simple Random Data Function list below.\n",
    "\n",
    "- _**rand**_\n",
    "- randn\n",
    "- _**randint**_\n",
    "- random integers\n",
    "- random_sample([size])\tReturn random floats in the half-open interval [0.0, 1.0).\n",
    "- random([size])\tReturn random floats in the half-open interval [0.0, 1.0).\n",
    "- ranf([size])\tReturn random floats in the half-open interval [0.0, 1.0).\n",
    "- sample([size])\tReturn random floats in the half-open interval [0.0, 1.0).\n",
    "- choice(a[, size, replace, p])\tGenerates a random sample from a given 1-D array\n",
    "- bytes(length)\tReturn random bytes.\n",
    "\n",
    "This notebook will explore a sample of the functions to explain the purpose and capabilities of the package and its uses within Data Analysis. The outputs will be returned in ndarrays. This are indicated in bold and italics. \n",
    "The size, type and structure of the ndarray will be determined by function called. "
   ]
  },
  {
   "cell_type": "markdown",
   "metadata": {},
   "source": [
    "#### random.rand ()\n",
    "Use of the random function in NumPy, returns positive random generated integer.\n",
    "\n",
    "**Type of array** To determine the type of array for any function, call the type (np.random.rand()) function"
   ]
  },
  {
   "cell_type": "code",
   "execution_count": 3,
   "metadata": {},
   "outputs": [
    {
     "data": {
      "text/plain": [
       "0.9039170840185463"
      ]
     },
     "execution_count": 3,
     "metadata": {},
     "output_type": "execute_result"
    }
   ],
   "source": [
    "np.random.rand() # All numbers generated within the normal distribution. The return is a float number"
   ]
  },
  {
   "cell_type": "code",
   "execution_count": 33,
   "metadata": {},
   "outputs": [
    {
     "data": {
      "text/plain": [
       "float"
      ]
     },
     "execution_count": 33,
     "metadata": {},
     "output_type": "execute_result"
    }
   ],
   "source": [
    "type(np.random.rand())# This function will call the type of data that you are working with"
   ]
  },
  {
   "cell_type": "code",
   "execution_count": 4,
   "metadata": {},
   "outputs": [
    {
     "data": {
      "text/plain": [
       "array([0.38848828, 0.39056973, 0.47573089])"
      ]
     },
     "execution_count": 4,
     "metadata": {},
     "output_type": "execute_result"
    }
   ],
   "source": [
    "np.random.rand(3) # The numbers of instances of the function is set by the parameters in the brackets. \n",
    "#This function will return 3 instances of a random generated number. It is displayed in a vector or a 1 dimensional array."
   ]
  },
  {
   "cell_type": "markdown",
   "metadata": {},
   "source": [
    "#### random.randint ()\n",
    "Within the random.randint function, the output are whole integers rather than floats. This function enables users to set the parameters of the output from low to high, 1 and 5. \n",
    "\n",
    "*Shape of Output:* This is determined the the amount of axes outlined in the size (). The first number refers to the number of rows and the second refers to the columns that will be generated. "
   ]
  },
  {
   "cell_type": "code",
   "execution_count": 34,
   "metadata": {},
   "outputs": [
    {
     "data": {
      "text/plain": [
       "array([[4, 3, 3, 2],\n",
       "       [3, 3, 4, 3]])"
      ]
     },
     "execution_count": 34,
     "metadata": {},
     "output_type": "execute_result"
    }
   ],
   "source": [
    "np.random.randint(2, 5, size=(2, 4)) # This is a 2 dimensional array denoted by the size () parameters. \n",
    "# The range in which the outputs are generated from are between 0,5."
   ]
  },
  {
   "cell_type": "markdown",
   "metadata": {},
   "source": [
    "In addition, this function will determine parameters if the higher range is not defined. The function accepts the integer inputted as the high parameter. "
   ]
  },
  {
   "cell_type": "code",
   "execution_count": 32,
   "metadata": {},
   "outputs": [
    {
     "data": {
      "text/plain": [
       "array([[[[0, 2],\n",
       "         [0, 3]],\n",
       "\n",
       "        [[1, 0],\n",
       "         [1, 3]]],\n",
       "\n",
       "\n",
       "       [[[3, 1],\n",
       "         [5, 1]],\n",
       "\n",
       "        [[1, 3],\n",
       "         [2, 1]]]])"
      ]
     },
     "execution_count": 32,
     "metadata": {},
     "output_type": "execute_result"
    }
   ],
   "source": [
    "np.random.randint(6, size=(2, 2 ,2, 2)) # This multidimensional array returns 2 rows, 2 columns, 2 groups and 2 sections.    "
   ]
  },
  {
   "cell_type": "code",
   "execution_count": 12,
   "metadata": {
    "scrolled": true
   },
   "outputs": [
    {
     "data": {
      "text/plain": [
       "array([2, 1, 0, 3, 1, 5, 4, 0, 3, 4])"
      ]
     },
     "execution_count": 12,
     "metadata": {},
     "output_type": "execute_result"
    }
   ],
   "source": [
    "np.random.randint(6, size=10) "
   ]
  },
  {
   "cell_type": "code",
   "execution_count": 13,
   "metadata": {},
   "outputs": [
    {
     "name": "stdout",
     "output_type": "stream",
     "text": [
      "[0 1 2 3 4 5 6 7 8 9]\n"
     ]
    }
   ],
   "source": [
    "print(np.arange(0, 10))"
   ]
  },
  {
   "cell_type": "code",
   "execution_count": 14,
   "metadata": {},
   "outputs": [
    {
     "name": "stdout",
     "output_type": "stream",
     "text": [
      "[0 1 2 3 4]\n",
      "[0 1 2 3 4 5 6 7 8 9]\n",
      "[0 2 4 6 8]\n",
      "[10  9  8  7  6  5  4  3  2  1]\n"
     ]
    }
   ],
   "source": [
    "# Lower limit is 0 be default\n",
    "print(np.arange(5))  \n",
    "\n",
    "# 0 to 9\n",
    "print(np.arange(0, 10))  \n",
    "\n",
    "# 0 to 9 with step of 2\n",
    "print(np.arange(0, 10, 2))  \n",
    "\n",
    "# 10 to 1, decreasing order\n",
    "print(np.arange(10, 0, -1))"
   ]
  },
  {
   "cell_type": "markdown",
   "metadata": {},
   "source": [
    "### (b) Permutations\n",
    "\n",
    "Within the numpy.random package there are two main permutations packages: \n",
    "\n",
    "Shuffle:     Within a 1 dimensional array, this function will change the order of all the contents\n",
    "             Within a multidimensional array, this function will rearrange the contents of the whole array within the defined    parameters\n",
    "         \n",
    "Permutation: Within a 1 dimensional array, this function will change the order of the contents\n",
    "             Within a mulitdimensional array, this function will keep the contents of a defined parameter e.g. axes but rearrange the contacts within that axes. (5)\n",
    "            "
   ]
  },
  {
   "cell_type": "code",
   "execution_count": 15,
   "metadata": {
    "scrolled": true
   },
   "outputs": [
    {
     "data": {
      "text/plain": [
       "array([0, 4, 3, 7, 8, 6, 5, 2, 1, 9])"
      ]
     },
     "execution_count": 15,
     "metadata": {},
     "output_type": "execute_result"
    }
   ],
   "source": [
    "arr = np.arange(10) # An array of numbers within the range 10\n",
    "np.random.shuffle(arr) # Arr is given a value to prepare for use of shuffle function\n",
    "arr"
   ]
  },
  {
   "cell_type": "code",
   "execution_count": 16,
   "metadata": {},
   "outputs": [
    {
     "data": {
      "text/plain": [
       "array([[0, 1, 2],\n",
       "       [3, 4, 5],\n",
       "       [6, 7, 8]])"
      ]
     },
     "execution_count": 16,
     "metadata": {},
     "output_type": "execute_result"
    }
   ],
   "source": [
    "np.arange(9).reshape((3, 3)) # "
   ]
  },
  {
   "cell_type": "code",
   "execution_count": 17,
   "metadata": {},
   "outputs": [
    {
     "data": {
      "text/plain": [
       "array([9, 6, 3, 7, 4, 8, 5, 1, 2, 0])"
      ]
     },
     "execution_count": 17,
     "metadata": {},
     "output_type": "execute_result"
    }
   ],
   "source": [
    "np.random.permutation(10)"
   ]
  },
  {
   "cell_type": "code",
   "execution_count": 18,
   "metadata": {},
   "outputs": [
    {
     "data": {
      "text/plain": [
       "array([[0, 1, 2],\n",
       "       [3, 4, 5],\n",
       "       [6, 7, 8]])"
      ]
     },
     "execution_count": 18,
     "metadata": {},
     "output_type": "execute_result"
    }
   ],
   "source": [
    "np.arange(9).reshape((3, 3))"
   ]
  },
  {
   "cell_type": "code",
   "execution_count": 19,
   "metadata": {},
   "outputs": [
    {
     "data": {
      "text/plain": [
       "array([1, 2, 3, 4, 5])"
      ]
     },
     "execution_count": 19,
     "metadata": {},
     "output_type": "execute_result"
    }
   ],
   "source": [
    "my_list = [1, 2, 3, 4, 5] \n",
    "my_numpy_list = np.array(my_list)\n",
    "my_numpy_list  #This line show the result of the array generated"
   ]
  },
  {
   "cell_type": "code",
   "execution_count": 20,
   "metadata": {
    "scrolled": true
   },
   "outputs": [
    {
     "data": {
      "text/plain": [
       "array([[1, 2, 3],\n",
       "       [5, 4, 1],\n",
       "       [3, 6, 7]])"
      ]
     },
     "execution_count": 20,
     "metadata": {},
     "output_type": "execute_result"
    }
   ],
   "source": [
    "second_list = [[1,2,3], [5,4,1], [3,6,7]]\n",
    "new_2d_arr = np.array(second_list)\n",
    "new_2d_arr  #This line show the result of the array generated"
   ]
  },
  {
   "cell_type": "code",
   "execution_count": 21,
   "metadata": {},
   "outputs": [
    {
     "data": {
      "text/plain": [
       "array([0., 0., 0.])"
      ]
     },
     "execution_count": 21,
     "metadata": {},
     "output_type": "execute_result"
    }
   ],
   "source": [
    "np.zeros(3)"
   ]
  },
  {
   "cell_type": "code",
   "execution_count": 22,
   "metadata": {
    "scrolled": true
   },
   "outputs": [
    {
     "data": {
      "text/plain": [
       "5"
      ]
     },
     "execution_count": 22,
     "metadata": {},
     "output_type": "execute_result"
    }
   ],
   "source": [
    "arr1 = 3\n",
    "arr2 = 2\n",
    "np.add(arr1,arr2)"
   ]
  },
  {
   "cell_type": "code",
   "execution_count": 23,
   "metadata": {
    "scrolled": true
   },
   "outputs": [
    {
     "data": {
      "text/plain": [
       "array([[1., 1., 1., 1.],\n",
       "       [1., 1., 1., 1.],\n",
       "       [1., 1., 1., 1.]])"
      ]
     },
     "execution_count": 23,
     "metadata": {},
     "output_type": "execute_result"
    }
   ],
   "source": [
    "np.ones((3,4))"
   ]
  },
  {
   "cell_type": "code",
   "execution_count": 24,
   "metadata": {},
   "outputs": [
    {
     "data": {
      "text/plain": [
       "array([1, 1, 0, 0, 0, 0, 0, 1, 0, 1])"
      ]
     },
     "execution_count": 24,
     "metadata": {},
     "output_type": "execute_result"
    }
   ],
   "source": [
    "np.random.randint(2, size=10)"
   ]
  },
  {
   "cell_type": "code",
   "execution_count": 25,
   "metadata": {},
   "outputs": [
    {
     "data": {
      "text/plain": [
       "0.012940751013852725"
      ]
     },
     "execution_count": 25,
     "metadata": {},
     "output_type": "execute_result"
    }
   ],
   "source": [
    "np.random.random_sample()"
   ]
  },
  {
   "cell_type": "code",
   "execution_count": 26,
   "metadata": {},
   "outputs": [
    {
     "data": {
      "text/plain": [
       "float"
      ]
     },
     "execution_count": 26,
     "metadata": {},
     "output_type": "execute_result"
    }
   ],
   "source": [
    "type(np.random.random_sample())"
   ]
  },
  {
   "cell_type": "code",
   "execution_count": 27,
   "metadata": {},
   "outputs": [
    {
     "data": {
      "text/plain": [
       "array([3, 3, 3], dtype=int64)"
      ]
     },
     "execution_count": 27,
     "metadata": {},
     "output_type": "execute_result"
    }
   ],
   "source": [
    "np.random.choice(5, 3, p=[0.1, 0, 0.3, 0.6, 0])"
   ]
  },
  {
   "cell_type": "markdown",
   "metadata": {},
   "source": [
    "## Section 3: Distributions in numpy.random packages"
   ]
  },
  {
   "cell_type": "markdown",
   "metadata": {},
   "source": [
    "#### Binomial Distribution\n",
    "\n",
    "For a variable to be a binomial random variable, ALL of the following conditions must be met:\n",
    "\n",
    "There are a fixed number of trials (a fixed sample size).\n",
    "On each trial, the event of interest either occurs or does not.\n",
    "The probability of occurrence (or not) is the same on each trial.\n",
    "Trials are independent of one another."
   ]
  },
  {
   "cell_type": "code",
   "execution_count": 28,
   "metadata": {},
   "outputs": [
    {
     "data": {
      "text/plain": [
       "0.0"
      ]
     },
     "execution_count": 28,
     "metadata": {},
     "output_type": "execute_result"
    }
   ],
   "source": [
    "import numpy as np\n",
    "n = 10\n",
    "p = 0.5\n",
    "np.random.binomial(n, p, 1000)\n",
    "sum(np.random.binomial(n, p, 2) == 0)/1"
   ]
  },
  {
   "cell_type": "code",
   "execution_count": 29,
   "metadata": {},
   "outputs": [
    {
     "ename": "NameError",
     "evalue": "name 'x' is not defined",
     "output_type": "error",
     "traceback": [
      "\u001b[1;31m---------------------------------------------------------------------------\u001b[0m",
      "\u001b[1;31mNameError\u001b[0m                                 Traceback (most recent call last)",
      "\u001b[1;32m<ipython-input-29-60f518972d7b>\u001b[0m in \u001b[0;36m<module>\u001b[1;34m\u001b[0m\n\u001b[1;32m----> 1\u001b[1;33m \u001b[0mprobs_100\u001b[0m \u001b[1;33m=\u001b[0m \u001b[1;33m[\u001b[0m\u001b[0mnp\u001b[0m\u001b[1;33m.\u001b[0m\u001b[0mequal\u001b[0m\u001b[1;33m(\u001b[0m\u001b[0mx\u001b[0m\u001b[1;33m,\u001b[0m\u001b[0mi\u001b[0m\u001b[1;33m)\u001b[0m\u001b[1;33m.\u001b[0m\u001b[0mmean\u001b[0m\u001b[1;33m(\u001b[0m\u001b[1;33m)\u001b[0m \u001b[1;32mfor\u001b[0m \u001b[0mi\u001b[0m \u001b[1;32min\u001b[0m \u001b[0mrange\u001b[0m\u001b[1;33m(\u001b[0m\u001b[0mn\u001b[0m\u001b[1;33m)\u001b[0m\u001b[1;33m]\u001b[0m\u001b[1;33m\u001b[0m\u001b[1;33m\u001b[0m\u001b[0m\n\u001b[0m\u001b[0;32m      2\u001b[0m \u001b[0mprint\u001b[0m\u001b[1;33m(\u001b[0m\u001b[0mprobs_100\u001b[0m\u001b[1;33m)\u001b[0m\u001b[1;33m\u001b[0m\u001b[1;33m\u001b[0m\u001b[0m\n",
      "\u001b[1;32m<ipython-input-29-60f518972d7b>\u001b[0m in \u001b[0;36m<listcomp>\u001b[1;34m(.0)\u001b[0m\n\u001b[1;32m----> 1\u001b[1;33m \u001b[0mprobs_100\u001b[0m \u001b[1;33m=\u001b[0m \u001b[1;33m[\u001b[0m\u001b[0mnp\u001b[0m\u001b[1;33m.\u001b[0m\u001b[0mequal\u001b[0m\u001b[1;33m(\u001b[0m\u001b[0mx\u001b[0m\u001b[1;33m,\u001b[0m\u001b[0mi\u001b[0m\u001b[1;33m)\u001b[0m\u001b[1;33m.\u001b[0m\u001b[0mmean\u001b[0m\u001b[1;33m(\u001b[0m\u001b[1;33m)\u001b[0m \u001b[1;32mfor\u001b[0m \u001b[0mi\u001b[0m \u001b[1;32min\u001b[0m \u001b[0mrange\u001b[0m\u001b[1;33m(\u001b[0m\u001b[0mn\u001b[0m\u001b[1;33m)\u001b[0m\u001b[1;33m]\u001b[0m\u001b[1;33m\u001b[0m\u001b[1;33m\u001b[0m\u001b[0m\n\u001b[0m\u001b[0;32m      2\u001b[0m \u001b[0mprint\u001b[0m\u001b[1;33m(\u001b[0m\u001b[0mprobs_100\u001b[0m\u001b[1;33m)\u001b[0m\u001b[1;33m\u001b[0m\u001b[1;33m\u001b[0m\u001b[0m\n",
      "\u001b[1;31mNameError\u001b[0m: name 'x' is not defined"
     ]
    }
   ],
   "source": [
    "probs_100 = [np.equal(x,i).mean() for i in range(n)]\n",
    "print(probs_100)"
   ]
  },
  {
   "cell_type": "markdown",
   "metadata": {},
   "source": [
    "https://towardsdatascience.com/fun-with-the-binomial-distribution-96a5ecabf65b"
   ]
  },
  {
   "cell_type": "code",
   "execution_count": null,
   "metadata": {},
   "outputs": [],
   "source": [
    "# Import libraries\n",
    "import numpy as np\n",
    "import matplotlib.pyplot as plt\n",
    "import seaborn as sns\n",
    "# Input variables\n",
    "# Number of trials\n",
    "trials = 1000\n",
    "# Number of independent experiments in each trial\n",
    "n = 10\n",
    "# Probability of success for each experiment\n",
    "p = 0.5\n",
    "# Function that runs our coin toss trials\n",
    "# heads is a list of the number of successes from each trial of n experiments\n",
    "def run_binom(trials, n, p):\n",
    "    heads = []\n",
    "    for i in range(trials):\n",
    "        tosses = [np.random.random() for i in range(n)]\n",
    "        heads.append(len([i for i in tosses if i>=0.50]))\n",
    "    return heads\n",
    "# Run the function\n",
    "heads = run_binom(trials, n, p)\n",
    "# Plot the results as a histogram\n",
    "fig, ax = plt.subplots(figsize=(14,7))\n",
    "ax = sns.distplot(heads, bins=11, label='simulation results')\n",
    "ax.set_xlabel(\"Number of Heads\",fontsize=16)\n",
    "ax.set_ylabel(\"Frequency\",fontsize=16)\n",
    "plt.show()a"
   ]
  },
  {
   "cell_type": "markdown",
   "metadata": {},
   "source": [
    "https://cmdlinetips.com/2018/12/simulating-coin-toss-experiment-with-binomial-random-numbers-using-numpy/"
   ]
  },
  {
   "cell_type": "code",
   "execution_count": null,
   "metadata": {},
   "outputs": [],
   "source": [
    "\n",
    "probs_100 = [np.equal(x,i).mean() for i in range(n)]\n",
    "print(probs_100)\n",
    "plt.xticks(range(n))\n",
    "plt.plot(list(range(n)), probs_100, color='blue', marker='o')\n",
    "plt.xlabel('Number of Heads',fontsize=14)\n",
    "plt.ylabel('Probability',fontsize=14)"
   ]
  },
  {
   "cell_type": "code",
   "execution_count": null,
   "metadata": {
    "scrolled": true
   },
   "outputs": [],
   "source": [
    "n, p = 10, .5\n",
    "s = np.random.binomial(n, p, 5)\n",
    "print (s)"
   ]
  },
  {
   "cell_type": "code",
   "execution_count": null,
   "metadata": {},
   "outputs": [],
   "source": [
    "import matplotlib.pyplot as plt\n",
    "import numpy as np\n",
    "\n",
    "x = np.random.uniform(0.0, 10.0, 100)\n",
    "y = np.random.uniform(0.0, 100.0, 100)\n",
    "z = np.random.normal(100.0, 40.0, 100)\n",
    "c = np.random.randint(0, 20, 100)\n",
    "\n",
    "plt.scatter(x, y, c=c, s=z)\n",
    "\n",
    "plt.show()\n",
    "\n",
    "#Ian's Git Hub"
   ]
  },
  {
   "cell_type": "code",
   "execution_count": null,
   "metadata": {},
   "outputs": [],
   "source": [
    "#Ian's Git Hub\n",
    "import matplotlib.pyplot as plt\n",
    "import numpy as np\n",
    "\n",
    "x = np.arange(0.0, 10.0, 0.01)\n",
    "y = 3.0 * x + 1.0\n",
    "noise = np.random.normal(0.0, 1.0, len(x))\n",
    "\n",
    "plt.plot(x, y + noise, 'r.', label=\"Actual\")\n",
    "plt.plot(x, y, 'b-', label=\"Model\")\n",
    "\n",
    "plt.title(\"Simple plot\")\n",
    "plt.xlabel(\"Weight\")\n",
    "plt.ylabel(\"Mass\")\n",
    "plt.legend()\n",
    "\n",
    "plt.show()"
   ]
  },
  {
   "cell_type": "code",
   "execution_count": null,
   "metadata": {},
   "outputs": [],
   "source": [
    "import matplotlib.pyplot as plt\n",
    "import numpy as np\n",
    "\n",
    "plt.subplot(1, 2, 1)\n",
    "x = np.random.normal(0.0, 1.0, 10000)\n",
    "plt.hist(x)\n",
    "\n",
    "plt.subplot(1, 2, 2)\n",
    "x = np.random.uniform(-3.0, 3.0, 10000)\n",
    "plt.hist(x)\n",
    "\n",
    "plt.show()"
   ]
  },
  {
   "cell_type": "code",
   "execution_count": null,
   "metadata": {},
   "outputs": [],
   "source": [
    "import matplotlib.pyplot as plt\n",
    "import numpy as np\n",
    "\n",
    "x = np.arange(2.0, 50.0, 0.5)\n",
    "\n",
    "plt.plot(x, x**2, 'g-', label=\"x^2\")\n",
    "plt.plot(x, x**3, 'b-', label=\"x^3\")\n",
    "plt.plot(x, x**4, 'r-', label=\"x^4\")\n",
    "plt.plot(x, 2**x, 'k-', label=\"2^x\")\n",
    "\n",
    "plt.legend()\n",
    "\n",
    "plt.show()\n",
    "\n",
    "#Ian's git Hub"
   ]
  },
  {
   "cell_type": "code",
   "execution_count": null,
   "metadata": {},
   "outputs": [],
   "source": [
    "import matplotlib.pyplot as plt\n",
    "import numpy as np\n",
    "\n",
    "x = np.arange(-2.0 * np.pi, 2.0 * np.pi, 0.1)\n",
    "\n",
    "plt.plot(x, np.sin(x), 'g.')\n",
    "plt.plot(x, np.cos(x), 'b.')\n",
    "\n",
    "plt.show()\n",
    "#Ian's Git Hub"
   ]
  },
  {
   "cell_type": "markdown",
   "metadata": {},
   "source": [
    "#### Chisquare Distribution"
   ]
  },
  {
   "cell_type": "markdown",
   "metadata": {},
   "source": [
    "#### Exponential Distribution"
   ]
  },
  {
   "cell_type": "markdown",
   "metadata": {},
   "source": [
    "#### Uniform Distribution\n",
    "\n",
    "Within ths distribution, samples are returned from a half open interval meaning the the lower paramenter is included while the higher one is not. Each value within the interval is equally likely to be drawn. There will be no part of the return that will have more outputs than the rest. \n",
    "\n",
    "https://docs.scipy.org/doc/numpy-1.15.0/reference/generated/numpy.random.uniform.html#numpy.random.uniform"
   ]
  },
  {
   "cell_type": "code",
   "execution_count": null,
   "metadata": {
    "scrolled": true
   },
   "outputs": [],
   "source": [
    "import numpy as np\n",
    "import matplotlib.pyplot as plt\n",
    "arr = np.random.rand (10000)\n",
    "print (arr)"
   ]
  },
  {
   "cell_type": "code",
   "execution_count": null,
   "metadata": {
    "scrolled": true
   },
   "outputs": [],
   "source": [
    "plt.hist(arr)"
   ]
  },
  {
   "cell_type": "markdown",
   "metadata": {},
   "source": [
    "## Section 4: Explain the use of seeds in generating pseudorandom numbers\n",
    "\n",
    "Pseudorandom numbers within the NumPy package refer to the deterministic methods used to generate seemingly random numbers. These are known as Psudeorandom Number Generators (PRNGs). PRNG are common amongst programming librarys. NumPy PRNG uses the Merseen Twister to generate random numbers within functions. \n",
    "\n",
    "Within the random function, the starting point is different everytime the function is called, so is the output even though the algorithm used is the same. This is useful within Data Analysis when you want to generate the same output each time the function is called. As the algorithm is the same, uses within cryptography are limited as the seed can easily be indentified. \n",
    "\n",
    "The seed function is called using the numpy.random.seed function, setting the starting point as the same for each time the funciton is called leading to the same data being generated."
   ]
  },
  {
   "cell_type": "markdown",
   "metadata": {},
   "source": [
    "Within the below example, the seed is not set, therefore the starting point of the the function is different every time. "
   ]
  },
  {
   "cell_type": "code",
   "execution_count": null,
   "metadata": {},
   "outputs": [],
   "source": [
    "import numpy as np\n",
    "np.random.rand(4)"
   ]
  },
  {
   "cell_type": "markdown",
   "metadata": {},
   "source": [
    "To demonstrate the randomn numbers generated because there is no seed set when called."
   ]
  },
  {
   "cell_type": "code",
   "execution_count": null,
   "metadata": {},
   "outputs": [],
   "source": [
    "np.random.rand(4)"
   ]
  },
  {
   "cell_type": "markdown",
   "metadata": {},
   "source": [
    "The function np.random.seed has been called for the following two functions, this wil demontrate that the seed functions sets the initial starting point of the algorithms, resulting with the same output"
   ]
  },
  {
   "cell_type": "code",
   "execution_count": null,
   "metadata": {},
   "outputs": [],
   "source": [
    "np.random.seed(0) ; np.random.rand(4)"
   ]
  },
  {
   "cell_type": "markdown",
   "metadata": {},
   "source": [
    "And lets try that again to see what numbers are generated."
   ]
  },
  {
   "cell_type": "code",
   "execution_count": null,
   "metadata": {},
   "outputs": [],
   "source": [
    "np.random.seed(0) ; np.random.rand(4)"
   ]
  },
  {
   "cell_type": "markdown",
   "metadata": {},
   "source": [
    "## References: \n",
    " 1. https://sites.engineering.ucsb.edu/~shell/che210d/numpy.pdf<a id='#ref1'></a>\n",
    " 2. https://docs.scipy.org/doc/numpy/user/quickstart.html\n",
    " 3. https://pynative.com/python-random-module/\n",
    " 4. https://docs.scipy.org/doc/numpy-1.15.1/reference/routines.random.html\n",
    " 5. https://www.ntu.edu.sg/home/ehchua/programming/webprogramming/Python4_DataAnalysis.html\n",
    " 6. http://hamelg.blogspot.com/2015/11/python-for-data-analysis-part-8-numpy.html\n",
    " \n",
    "(Section 3) http://hplgit.github.io/primer.html/doc/pub/random/._random-solarized001.html\n",
    "\n",
    "Binomial References: \n",
    "https://www.geeksforgeeks.org/binomial-random-variables/\n",
    "https://www.pluralsight.com/guides/almost-random-numbers\n",
    "https://www.pluralsight.com/guides/almost-random-numbers\n",
    "https://stackoverflow.com/questions/27644617/difference-between-n-and-size-parameters-in-np-random-binomialn-p-size-1000\n",
    "https://discuss.codecademy.com/t/what-does-the-np-random-binomial-function-return/361162\n",
    "https://www.statisticshowto.datasciencecentral.com/probability-and-statistics/binomial-theorem/binomial-distribution-formula/\n",
    "\n",
    " (Section 4) https://www.sicara.ai/blog/2019-01-28-how-computer-generate-random-numbers\n",
    "             https://www.pluralsight.com/guides/almost-random-numbers\n",
    "             https://www.geeksforgeeks.org/pseudo-random-number-generator-prng/\n",
    "             https://stackoverflow.com/questions/21494489/what-does-numpy-random-seed0-do\n",
    "             https://machinelearningmastery.com/how-to-generate-random-numbers-in-python/\n"
   ]
  },
  {
   "cell_type": "code",
   "execution_count": null,
   "metadata": {},
   "outputs": [],
   "source": []
  }
 ],
 "metadata": {
  "kernelspec": {
   "display_name": "Python 3",
   "language": "python",
   "name": "python3"
  },
  "language_info": {
   "codemirror_mode": {
    "name": "ipython",
    "version": 3
   },
   "file_extension": ".py",
   "mimetype": "text/x-python",
   "name": "python",
   "nbconvert_exporter": "python",
   "pygments_lexer": "ipython3",
   "version": "3.7.1"
  }
 },
 "nbformat": 4,
 "nbformat_minor": 2
}
