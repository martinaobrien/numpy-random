{
 "cells": [
  {
   "cell_type": "markdown",
   "metadata": {},
   "source": [
    "<a name=\"top\"></a>\n",
    "# Investigation of numpy.random package\n",
    "\n",
    "Submitted as part of the requirements for the GMIT Higher Diploma in Data Analysis as part of the module Programme for Data Analysis 2019"
   ]
  },
  {
   "cell_type": "markdown",
   "metadata": {},
   "source": [
    "![JupyterSymbols](https://raw.githubusercontent.com/martinaobrien/numpy-random/master/img/Header%20Image.png)\n",
    "\n",
    "### Table of Contents: \n",
    "i. [Introduction to Numpy](#intro) <br/>\n",
    "1. [Explain the use of the overall purpose of the numpy.random package](#section1) <br/>\n",
    "\n",
    "2. [Explain the use of \"Single Random Data\" and \"Premutations\" functions](#section2) <br/>\n",
    "    2.1 [Single Random Data Function](#section2) <br/>\n",
    "    2.2 [Premutations Function](#section2.2) <br/>\n",
    "3. [Explain the use and purpose of a least five \"Distributions\" functions](#section3) <br/>\n",
    "    3.1 [Binomial](#section3.1) <br/>\n",
    "    3.2 [Exponential](#section3.2) <br/>\n",
    "    3.3 [Geometric](#section3.3) <br/>\n",
    "    3.4 [Normal](#section3.4) <br/>\n",
    "    3.5 [Uniform](#section3.5) <br/>\n",
    "4. [Explain the use of seeds in generating pseudorandom numbers](#section4) <br/>\n",
    "[References](#ref) <br/>\n"
   ]
  },
  {
   "cell_type": "markdown",
   "metadata": {},
   "source": [
    "<a id='intro'></a>\n",
    "### Introduction to Numpy\n",
    "\n",
    "NumPy (Numerical Python) is an open source add on package to Python. The overall purpose of the package is to provide mathematical and numerical routines through precompiled fast functions (1). Developed in the 2000's, NumPy is seen as a fundamental computing package crucial for data analysis and machine learning objects due to its efficiency and ability to interface with other packages within the Python library such as pandas and matplotlib.\n",
    "\n",
    "The NumPy package proivdes\n",
    "\n",
    " - homogenous multidimensional arrays(2),\n",
    "        \n",
    " - outputed through various derived objects (matrices and vectors) and,\n",
    "        \n",
    " - numerous computations for fast operations on the aforementioned arrays (random selections, shape manipulation, statistical operations) (3).\n",
    "        \n",
    "These arrays can be accessed and manipulated similarly to the list function with Python and must be of one data type i.e. integer, string etc. Numpy has the capability to perform more efficiently and effectively in:\n",
    "\n",
    " -  Size - Numpy data structures take up less space\n",
    "\n",
    " -  Performance - they have a need for speed and are faster than lists\n",
    "\n",
    " - Functionality - SciPy and NumPy have optimized functions such as linear algebra operations built in.(4)"
   ]
  },
  {
   "cell_type": "markdown",
   "metadata": {},
   "source": [
    "<a id='section1'></a>\n",
    "### 1. Purpose of numpy.random package\n",
    "The numpy.random package is a function within the NumPy package for doing random sampling computations that returns arrays of specified shapes and sizes.\n",
    "\n",
    "Random data is becoming increasingly important in many industries in today’s world as many seemingly ordinary events randomly occur.  In order to determine the process behind these ordinary events (e.g. cloud size, incidences of tornados, blood pressure monitoring), there is a need to simulate the event using random generated data. Data Simulation then enables further understandings of occurrences, data trends and likelihood of outliers. (5)\n",
    "\n",
    "The following section will outline key functions with the numpy.random package as outlined on the NumPy documentation (6) on Scipy.org at this link:[Version 1.15](https://docs.scipy.org/doc/numpy-1.15.1/reference/routines.random.html).\n",
    "\n",
    "#### The sections of the numpy.random package are: "
   ]
  },
  {
   "cell_type": "markdown",
   "metadata": {},
   "source": [
    "|Sections |No of Functions |Brief Descriptions |\n",
    "|:-:|:-:|:-:| \n",
    "|Random Sample Data | 10 functions |Random data computations on specified arrays\n",
    "|Permutations | 2 functions | Alters the sequence of generated outputs within arrays\n",
    "|Distributions |35 functions |Determines the occurance of variables accross defined parameters within arrays\n",
    "|Random Generator | 4 functions | Determining the probability of occurance within arrays"
   ]
  },
  {
   "cell_type": "markdown",
   "metadata": {},
   "source": [
    "#### Importing the NumPy Package\n",
    "\n",
    "To begin working with the NumPy Package, it first has to be installed. In this notebook, the Numpy Package was imported throught the Anaconda package."
   ]
  },
  {
   "cell_type": "code",
   "execution_count": null,
   "metadata": {},
   "outputs": [],
   "source": [
    "import numpy as np \n",
    "import matplotlib.pyplot as plt\n",
    "import seaborn as sns\n",
    "#importing the package for use in the notebook"
   ]
  },
  {
   "cell_type": "markdown",
   "metadata": {},
   "source": [
    "<a id='section2'></a>\n",
    "## 2. Explanation of Functions\n",
    "\n",
    "#### 2.1 Simple Random Data Functions\n",
    "\n",
    "The Simple Random Data within Numpy is a range of precompiled computations that will generate random numbers of the same types that is held within arrays. This arrays are usually drawn from \"commonly used distributions:Uniform, Normal (Gaussian), Binomial and Poission\"(5), each of wich will be explained in section 3. \n",
    "\n",
    "There are 10 functions within the Simple Random Data Function list below This notebook will explore a sample of the functions to explain the purpose and capabilities of the package and its uses within Data Analysis.**These are highlighted in bold and italicised functions are explained in detail in the notebook)**: The outputs will be returned in ndarrays.\n",
    "\n",
    "\n",
    "- [_**rand**_](#rand)\n",
    "- [_**randn**_](#randn)\n",
    "- [_**randint**_](#randint)\n",
    "- random integers\n",
    "- random_sample\n",
    "- random\n",
    "- ranf\n",
    "- sample\n",
    "- [_**choice**_](#choice)\n",
    "- bytes\n",
    "\n",
    " "
   ]
  },
  {
   "cell_type": "markdown",
   "metadata": {},
   "source": [
    "<a id='rand'></a>\n",
    "#### random.rand ()\n",
    "Use of the random function in NumPy, returns positive random generated integer within the parameters (0, 1). "
   ]
  },
  {
   "cell_type": "code",
   "execution_count": null,
   "metadata": {},
   "outputs": [],
   "source": [
    "np.random.rand() \n",
    "# All numbers generated within the normal distribution.\n",
    "# The return is a float number"
   ]
  },
  {
   "cell_type": "markdown",
   "metadata": {},
   "source": [
    "_*Type of array*_: To determine the type of array for any function, call the type (np.random.rand()) function"
   ]
  },
  {
   "cell_type": "code",
   "execution_count": null,
   "metadata": {},
   "outputs": [],
   "source": [
    "type(np.random.rand())\n",
    "#Call the type of data that you are working with"
   ]
  },
  {
   "cell_type": "code",
   "execution_count": null,
   "metadata": {},
   "outputs": [],
   "source": [
    "np.random.rand(3) \n",
    "#The numbers of instances of the function is set by parameters in the brackets. \n",
    "#This function will return 3 instances of a random generated number.\n",
    "# It is displayed in a vector or a 1 dimensional array."
   ]
  },
  {
   "cell_type": "markdown",
   "metadata": {},
   "source": [
    "<a id='randn'></a>\n",
    "#### random.randn ()\n",
    "The random.randn function is called from the Standard Normal distribution. The function has the parameters: mean of 0 and a variance of 1. "
   ]
  },
  {
   "cell_type": "code",
   "execution_count": null,
   "metadata": {},
   "outputs": [],
   "source": [
    "import numpy as np\n",
    "np.random.randn(5)"
   ]
  },
  {
   "cell_type": "markdown",
   "metadata": {},
   "source": [
    "<a id='randint'></a>\n",
    "#### random.randint ()\n",
    "\n",
    "Within the random.randint function, the output are whole integers rather than floats. This function enables users to set the parameters of the output from low to high, 1 and 50. "
   ]
  },
  {
   "cell_type": "code",
   "execution_count": null,
   "metadata": {},
   "outputs": [],
   "source": [
    "np.random.randint(0,50,10)\n",
    "\n",
    "\n",
    "np.random.randint(0,50,10)\n",
    "\n",
    "ranint = np.random.randint(0,50,10)\n",
    "\n",
    "#To determine the further points between the outputs you can call the max and min points\n",
    "#It will return max value of the array\n",
    "max = ranint.max()\n",
    "\n",
    "#Minimum value\n",
    "min = ranint.min()\n",
    "\n",
    "print (ranint)\n",
    "print (max)\n",
    "print (min)\n"
   ]
  },
  {
   "cell_type": "markdown",
   "metadata": {},
   "source": [
    "*Shape of Output:* This is determined the the amount of axes outlined in the size (). The first number refers to the number of rows and the second refers to the columns that will be generated. "
   ]
  },
  {
   "cell_type": "code",
   "execution_count": null,
   "metadata": {},
   "outputs": [],
   "source": [
    "np.random.randint(2, 15, size=(2, 4))\n",
    "# This is a 2 dimensional array denoted by the size () parameters. \n",
    "# The range in which the outputs are generated from are between 0,5."
   ]
  },
  {
   "cell_type": "markdown",
   "metadata": {},
   "source": [
    "In addition, this function will determine parameters if the higher range is not defined. The function accepts the integer inputted as the high parameter. "
   ]
  },
  {
   "cell_type": "code",
   "execution_count": null,
   "metadata": {},
   "outputs": [],
   "source": [
    "np.random.randint(10, size=(2, 2 ,2, 2))\n",
    "#This multidimensional array returns 2 rows, 2 columns, 2 groups and 2 sections.    "
   ]
  },
  {
   "cell_type": "code",
   "execution_count": null,
   "metadata": {
    "scrolled": true
   },
   "outputs": [],
   "source": [
    "np.random.randint(6, size=10) "
   ]
  },
  {
   "cell_type": "markdown",
   "metadata": {},
   "source": [
    "<a id='choice'></a>\n",
    "#### random.choice ()\n",
    "\n",
    "random.choice within the Numpy library provides a way of creating random lists within 1 dimensional array. "
   ]
  },
  {
   "cell_type": "code",
   "execution_count": null,
   "metadata": {},
   "outputs": [],
   "source": [
    "np.random.choice(6, 2)\n",
    "#The first number in the parenthesis indicates the range in which the output is generated\n",
    "#the second number indicates ths size of the output. https://www.r-craft.org/r-news/how-to-use-numpy-random-choice/"
   ]
  },
  {
   "cell_type": "code",
   "execution_count": null,
   "metadata": {
    "scrolled": true
   },
   "outputs": [],
   "source": [
    "np.random.choice(5, 3, replace=True) \n",
    "#Replacement function determines if numbers generated can be chosen again.\n",
    "#True indicates that the numbers can be generated again in the same command."
   ]
  },
  {
   "cell_type": "code",
   "execution_count": null,
   "metadata": {},
   "outputs": [],
   "source": [
    "np.random.choice(5, 3, replace = False, p =[ 0.8, 0.1, 0.1, 0, 0])\n",
    "# P is the probability of each of the potential outputs being generated. \n",
    "# The probablility must equal to 1 to be true."
   ]
  },
  {
   "cell_type": "markdown",
   "metadata": {},
   "source": [
    "<a id='section2.2'></a>\n",
    "#### 2.1 Permutation Functions\n",
    "\n",
    "Within the numpy.random package there are two main permutations packages (8). While similiar in many of their functions, the differences are outlined in the below section:                    "
   ]
  },
  {
   "cell_type": "markdown",
   "metadata": {},
   "source": [
    "_**Permutation:**_ \n",
    "\n",
    "Within a 1 dimensional array, this function will change the order of the contents. Within a multidimensional array, this function will keep the contents of a defined parameter e.g. axes but rearrange the contacts within that axes."
   ]
  },
  {
   "cell_type": "code",
   "execution_count": null,
   "metadata": {
    "scrolled": true
   },
   "outputs": [],
   "source": [
    "np.random.permutation(10)"
   ]
  },
  {
   "cell_type": "code",
   "execution_count": null,
   "metadata": {},
   "outputs": [],
   "source": [
    "np.random.permutation([1, 4, 9, 12, 15])"
   ]
  },
  {
   "cell_type": "code",
   "execution_count": null,
   "metadata": {},
   "outputs": [],
   "source": [
    "arr = np.arange(9).reshape((3, 3))\n",
    "np.random.permutation(arr)"
   ]
  },
  {
   "cell_type": "markdown",
   "metadata": {},
   "source": [
    "_**Shuffle:**_\n",
    "\n",
    "Within a 1 dimensional array, this function will change the order of all the contents. Within a multidimensional array, this function will rearrange the contents of the whole array within the defined parameters. "
   ]
  },
  {
   "cell_type": "code",
   "execution_count": null,
   "metadata": {
    "scrolled": false
   },
   "outputs": [],
   "source": [
    "arr = np.arange(0,10, 2) # An array of numbers within the range 10 at a interval of 2\n",
    "# Plesae note that when no lower value is indicated, in this instance 10, the lower value become 0 by default\n",
    "print (arr)"
   ]
  },
  {
   "cell_type": "code",
   "execution_count": null,
   "metadata": {},
   "outputs": [],
   "source": [
    "np.random.shuffle(arr) # Arr is given a value to prepare for use of shuffle function\n",
    "print (arr)"
   ]
  },
  {
   "cell_type": "markdown",
   "metadata": {},
   "source": [
    "Within matrices, the shuffle functions computes on the axes as an array."
   ]
  },
  {
   "cell_type": "code",
   "execution_count": null,
   "metadata": {},
   "outputs": [],
   "source": [
    "arr = np.arange(9).reshape((3, 3)) #The function will call out a matrix containing integers in the range 9 in a 3 * 3 matrix\n",
    "print (arr)"
   ]
  },
  {
   "cell_type": "code",
   "execution_count": null,
   "metadata": {},
   "outputs": [],
   "source": [
    "np.random.shuffle(arr) # Using the same command as before with shuffle\n",
    "print (arr) # Result of the axes being shuffled but not the content within the axis"
   ]
  },
  {
   "cell_type": "code",
   "execution_count": null,
   "metadata": {},
   "outputs": [],
   "source": [
    "x = np.arange(9)\n",
    "np.random.shuffle(x)\n",
    "x.shape = 3,3\n",
    "print(x)"
   ]
  },
  {
   "cell_type": "markdown",
   "metadata": {},
   "source": [
    "<a id='section3'></a>\n",
    "## 3. Distributions in numpy.random packages\n",
    "\n",
    "Probability distribution refers to the \"statistical function that describes all the possible values and likelihoods that a random variable can take within a given range\"(9). \n",
    "\n",
    "Each distribution is captured within either of two cases: a continious distribution or a dicrete distribution as definded below (10).  \n",
    "\n",
    "**A continuous distribution**\n",
    "\n",
    "\"describes the probabilities of the possible values of a continuous random variable. A continuous random variable is a random variable with a set of possible values (known as the range) that is infinite and uncountable.\n",
    "\n",
    "\"Probabilities of continuous random variables (X) are defined as the area under the curve of its PDF. Thus, only ranges of values can have a nonzero probability. The probability that a continuous random variable equals some value is always zero.\"\n",
    "\n",
    "**A discrete distribution**\n",
    "\n",
    "\"describes the probability of occurrence of each value of a discrete random variable. A discrete random variable is a random variable that has countable values, such as a list of non-negative integers.\"\n",
    "\n",
    "\"With a discrete probability distribution, each possible value of the discrete random variable can be associated with a non-zero probability.\"\n",
    "\n",
    "It is important to note that there are relationships between the distributions and while they are not the focus of this assignment, they will be referred to where relevant. \n",
    "\n",
    "\n",
    "\n",
    "\n",
    "The functions that will be discussed in this sections are: \n",
    " \n",
    "•\tBinomial\n",
    "\n",
    "•\tExponentional\n",
    "\n",
    "•\tNormal\n",
    "\n",
    "•\tPoisson \n",
    "\n",
    "•\tUniform  "
   ]
  },
  {
   "cell_type": "markdown",
   "metadata": {},
   "source": [
    "<a id='section3.1'></a>\n",
    "### 3.1 Binomial Distribution\n",
    "\n",
    "\n",
    "Within the binomial distribution, there are only two outcome (known as a binary outcome): success or failure. The distribution counts how often each of the two outcomes occur in a fixed number of trials. The binomial distribution has three underlying assumptions (11): \n",
    "\n",
    "   - There is only one outcome for each trial\n",
    "\n",
    "   - Each outcome has the probability of success\n",
    "\n",
    "   - Each outcome is mutually exclusive \n",
    "\n",
    "The three conditions in the binomial distribution are:\n",
    "\n",
    "   - n = number of trials\n",
    "\n",
    "   - p = probability event of interest occurs on any one trial\n",
    "\n",
    "   - size = number of times you want to run this experiment\n",
    "\n"
   ]
  },
  {
   "cell_type": "markdown",
   "metadata": {},
   "source": [
    "Below is the classic example of simulating the result of 10 coin flips and repeated 6 times. "
   ]
  },
  {
   "cell_type": "code",
   "execution_count": null,
   "metadata": {},
   "outputs": [],
   "source": [
    "n, p = 10, .5\n",
    "np.random.binomial(n, p, 6) \n",
    "# n = the amount of instance (coin flips) in a trial\n",
    "# p = is the probability of a success"
   ]
  },
  {
   "cell_type": "markdown",
   "metadata": {},
   "source": [
    "To visually dipslay a binomial distribution, the following function runs the same coin flip test 2000 times"
   ]
  },
  {
   "cell_type": "code",
   "execution_count": null,
   "metadata": {},
   "outputs": [],
   "source": [
    "# Import libraries\n",
    "import numpy as np\n",
    "import matplotlib.pyplot as plt\n",
    "import seaborn as sns\n",
    "#Seaborn is a Python data visualization library based on matplotlib.\n",
    "#It provides a high-level interface for drawing attractive and informative statistical graphics.\n",
    "\n",
    "n, p = 10, .5 # number of trials, probability of each trial\n",
    "s = [np.random.binomial(n,p,2000)]\n",
    "\n",
    "# Plot the results as a histogram\n",
    "plt.hist = sns.distplot([s], bins=11, label='simulation results')\n",
    "plt.title(\"Simulation Results\", fontsize=18)\n",
    "plt.xlabel(\"Number of Heads\",fontsize=12)\n",
    "plt.ylabel(\"Frequency\",fontsize=12)\n",
    "plt.show() #result of flipping a coin 15 times, tested 2000 times."
   ]
  },
  {
   "cell_type": "markdown",
   "metadata": {},
   "source": [
    "The normal distribution for each interval is dipicted by the blue line. It is evident that the probability of having a complete success or failure rate in the trial is low.\n",
    "Within the above the plot, the more times the trial is run, the closer to the normal distribution the results will be. "
   ]
  },
  {
   "cell_type": "markdown",
   "metadata": {},
   "source": [
    "<a id='section3.2'></a>\n",
    "### 3.2 Exponential Distributions\n",
    "\n",
    "\n",
    "Exponential distributions are concerned with the amount of time until something specific will occur and occur in the following manner: less large occurrences and increased smaller occurrences.  This distribution is largely used in the field of reliability to determine the probability of an occurance (12).The expontential distribtion is concerned with two parameters: size and scale. \n",
    "\n",
    "Within the Exponential Distribution, there is the memoryless factor meaning the past has no bearing on future occurrences. Every instant is a beginning of a new random period. This is important when distinguishing the type of information you want to generate from your data sample (13).It is important to not that is distribution occurs between events within a Poisson point process (14).\n",
    "\n",
    "The outcome of the exponential distribution is \"a continuous probability distribution where a few outcomes are the most likely with a rapid decrease in probability to all other outcomes\". The distribution is defined by one parameter: scale (beta)(15).\n"
   ]
  },
  {
   "cell_type": "code",
   "execution_count": null,
   "metadata": {
    "scrolled": true
   },
   "outputs": [],
   "source": [
    "# sample an exponential distribution\n",
    "from numpy.random import exponential\n",
    "# define the distribution\n",
    "beta = 50 \n",
    "n = 10 \n",
    "# generate the sample\n",
    "sample = exponential(beta, n)\n",
    "print(sample)"
   ]
  },
  {
   "cell_type": "code",
   "execution_count": null,
   "metadata": {},
   "outputs": [],
   "source": [
    "from scipy.stats import expon\n",
    "from matplotlib import pyplot #importing pyplot from matplotlib\n",
    "import seaborn as sns\n",
    "# define distribution parameter\n",
    "beta = 50 # this is the scale of the distribution\n",
    "# create distribution\n",
    "dist = expon(beta)\n",
    "# plot pdf\n",
    "values = [value for value in range(50, 70)]\n",
    "probabilities = [dist.pdf(value) for value in values]\n",
    "pyplot.title('Probablity of defaulting loan')\n",
    "pyplot.xlabel('Probablity')\n",
    "pyplot.ylabel('Values')\n",
    "pyplot.plot(values, probabilities)\n",
    "pyplot.show()"
   ]
  },
  {
   "cell_type": "markdown",
   "metadata": {},
   "source": [
    "<a id='section3.4'></a>\n",
    "### 3.4 Normal Distribution\n",
    "\n",
    "Normal Distribution is a common probability distribution that is well known as the \"Bell Curve\" due to the shape. The output of the normal distribution is determined by the mean and the standard deviaton of a data set. The smaller the curve, the closer the standard deviation is to the mean (16). The distribution is concerned with the mean, standard deviation and the size (loc, scale and size)(17).\n",
    "\n",
    "It is also known as the Gaussian Distribution and is considered one the most important probability distributions due to the its relevancy is in measuring many natural phenomena (18):\n",
    "- Health\n",
    "- Educational \n",
    "- Social Sciences\n",
    "   \n",
    "\n",
    "Normal distribution has (19)\n",
    " - mean \n",
    " - symmetry about the center\n",
    " - 50% of values less than the mean and 50% greater than the mean\n",
    " "
   ]
  },
  {
   "cell_type": "code",
   "execution_count": 5,
   "metadata": {},
   "outputs": [
    {
     "data": {
      "text/plain": [
       "array([50.26094721, 51.58613001, 51.05091064, 50.61999059, 50.21374488,\n",
       "       50.00091195, 49.16290395, 48.11177516, 50.97673475, 51.73771374])"
      ]
     },
     "execution_count": 5,
     "metadata": {},
     "output_type": "execute_result"
    }
   ],
   "source": [
    "# Within this array a sixe of 10 samples with the mean of 50 will generated\n",
    "np.random.normal(size = 10, loc = 50)"
   ]
  },
  {
   "cell_type": "markdown",
   "metadata": {},
   "source": [
    "Within the below plot, outputs will be generated from a size of 1000, with a mean centred at 0 and a standard deviation of 0.1."
   ]
  },
  {
   "cell_type": "code",
   "execution_count": 9,
   "metadata": {},
   "outputs": [
    {
     "data": {
      "image/png": "[encoded data removed]",
      "text/plain": [
       "<Figure size 432x288 with 1 Axes>"
      ]
     },
     "metadata": {
      "needs_background": "light"
     },
     "output_type": "display_data"
    }
   ],
   "source": [
    "import numpy as np\n",
    "mu, sigma = 0, 0.1 # mean and standard deviation\n",
    "s = np.random.normal(mu, sigma, 1000)\n",
    "import matplotlib.pyplot as plt\n",
    "count, bins, ignored = plt.hist(s, 30, density=True)\n",
    "plt.plot(bins, 1/(sigma * np.sqrt(2 * np.pi)) *\n",
    "np.exp( - (bins - mu)**2 / (2 * sigma**2) ),\n",
    "linewidth=2, color='r')\n",
    "\n",
    "plt.title(\"Normal Distribution plot\")\n",
    "plt.xlabel(\"Occurances\")\n",
    "plt.ylabel(\"Mean\")\n",
    "plt.show()"
   ]
  },
  {
   "cell_type": "markdown",
   "metadata": {},
   "source": [
    "The above histogram demonstrates the clustering of results around the mean which was set as the 0. This historgram demonstrates the intervals at which the outputs were generated."
   ]
  },
  {
   "cell_type": "code",
   "execution_count": 7,
   "metadata": {},
   "outputs": [
    {
     "data": {
      "image/png": "[encoded data removed]",
      "text/plain": [
       "<Figure size 432x288 with 1 Axes>"
      ]
     },
     "metadata": {
      "needs_background": "light"
     },
     "output_type": "display_data"
    }
   ],
   "source": [
    "import numpy as np\n",
    "import matplotlib.pyplot as plt\n",
    "\n",
    "mu, sigma = 0, 0.1 # mean and standard deviation\n",
    "N = 1000\n",
    "x = np.random.normal(mu, sigma, 1000)\n",
    "y = np.random.normal(mu, sigma, 1000)\n",
    "colors = np.random.normal(mu, sigma, 1000)\n",
    "area = (30 * np.random.normal(mu, sigma, 1000))**2  # 0 to 15 point radii\n",
    "\n",
    "plt.scatter(x, y, s=area, c=colors, alpha=0.5)\n",
    "plt.show()"
   ]
  },
  {
   "cell_type": "code",
   "execution_count": null,
   "metadata": {
    "scrolled": false
   },
   "outputs": [],
   "source": [
    "#Ian's Git Hub\n",
    "import matplotlib.pyplot as plt\n",
    "import numpy as np\n",
    "\n",
    "x = np.arange(0.0, 10.0, 0.01)\n",
    "y = 3.0 * x + 1.0\n",
    "noise = np.random.normal(0.0, 1.0, len(x))\n",
    "\n",
    "plt.plot(x, y + noise, 'r.', label=\"Actual\")\n",
    "plt.plot(x, y, 'b-', label=\"Model\")\n",
    "\n",
    "plt.title(\"Simple plot\")\n",
    "plt.xlabel(\"Weight\")\n",
    "plt.ylabel(\"Mass\")\n",
    "plt.legend()\n",
    "\n",
    "plt.show()"
   ]
  },
  {
   "cell_type": "markdown",
   "metadata": {},
   "source": [
    "### 3.4 Poisson Distribution"
   ]
  },
  {
   "cell_type": "markdown",
   "metadata": {},
   "source": [
    "The Poisson distribution is used to show how many time an event is likely to occur within a specific amount of time. The Poisson distribution “is a discrete function, meaning that the event can only be measured as occurring or not as occurring”, meaning the variable can only be measured in whole numbers. (20)\n",
    "\n",
    "This is different from the normal distribution that can accept any numbers in its distributions. Thus, you can 3 or 6 balls in the back of a football net but you can’t have – 2. h\n",
    "\n",
    "The Poisson Distribution is a special case of the Binomial Distribution as n goes to infinity while the expected number of successes remains fixed (21). Binomial and Poisson can seem to be very similar in their parameters, so determining their correct usage is key in generating meaningful data analysis. The general guidelines are (22):\n",
    "\n",
    "- If your question has an average probability of an event happening per unit (i.e. per unit of time, cycle, event) and you want to find probability of a certain number of events happening in a period of time (or number of events), then use the Poisson Distribution.\n",
    "\n",
    "- If you are given an exact probability and you want to find the probability of the event happening a certain number out times out of x (i.e. 10 times out of 100, or 99 times out of 1000), use the Binomial Distribution formula."
   ]
  },
  {
   "cell_type": "code",
   "execution_count": 11,
   "metadata": {
    "scrolled": true
   },
   "outputs": [
    {
     "data": {
      "image/png": "[encoded data removed]",
      "text/plain": [
       "<Figure size 432x288 with 1 Axes>"
      ]
     },
     "metadata": {
      "needs_background": "light"
     },
     "output_type": "display_data"
    }
   ],
   "source": [
    "import numpy as np\n",
    "s = np.random.poisson(10, 10000)\n",
    "import matplotlib.pyplot as plt\n",
    "count, bins, ignored = plt.hist(s, 14, density=True)\n",
    "plt.show()"
   ]
  },
  {
   "cell_type": "markdown",
   "metadata": {},
   "source": [
    "<a id='section3.5'></a>\n",
    "### 3.5 Uniform Distribution\n",
    "\n",
    "https://www.analyticsvidhya.com/blog/2017/09/6-probability-distributions-data-science/\n",
    "\n",
    "Uniform Distribution occurs when all output from a range are equally likely to be generated within a call. For example, when you roll a dice, you are equally likely to draw each of the numbers (1,2,3,4,5,6) when you roll the dice. \n",
    "\n",
    "There are two types of uniform distributions: discrete and continious. Taking the example of the dice again, it is possible to get an outcome from the range (1,6) that will equal 1,2,3,4,5,6. This is example of a discrete distribution. \n",
    "Conversely, you will not be able to get a continious distribution output (2.4, 2.345) from a roll of a dice. Within the continious distribution , every varioable has an equal opportunity of being generating and tehre are infinite number of possible outputs that you can generate.\n",
    "\n",
    "\n",
    "\n"
   ]
  },
  {
   "cell_type": "code",
   "execution_count": null,
   "metadata": {
    "scrolled": true
   },
   "outputs": [],
   "source": [
    "import numpy as np\n",
    "s = np.random.uniform(-1,0,1000)\n",
    "import matplotlib.pyplot as plt\n",
    "count, bins, ignored = plt.hist(s, 15, density=True)\n",
    "plt.plot(bins, np.ones_like(bins), linewidth=2, color='r')\n",
    "plt.show()"
   ]
  },
  {
   "cell_type": "code",
   "execution_count": null,
   "metadata": {},
   "outputs": [],
   "source": [
    "import matplotlib.pyplot as plt\n",
    "import numpy as np\n",
    "\n",
    "plt.subplot(1, 2, 1)\n",
    "x = np.random.normal(0.0, 1.0, 10000)\n",
    "plt.hist(x)\n",
    "\n",
    "plt.subplot(1, 2, 2)\n",
    "x = np.random.uniform(-3.0, 3.0, 10000)\n",
    "plt.hist(x)\n",
    "\n",
    "plt.show()"
   ]
  },
  {
   "cell_type": "markdown",
   "metadata": {},
   "source": [
    "<a id='section4'></a>\n",
    "### 4. Explain the use of seeds in generating pseudorandom numbers\n",
    "\n",
    "Pseudorandom numbers within the NumPy package refer to the deterministic methods used to generate seemingly random numbers. These are known as Psudeorandom Number Generators (PRNGs). PRNG are common amongst programming librarys. NumPy PRNG uses the Merseen Twister to generate random numbers within functions. \n",
    "\n",
    "Within the random function, the starting point is different everytime the function is called, so is the output even though the algorithm used is the same. This is useful within Data Analysis when you want to generate the same output each time the function is called. As the algorithm is the same, uses within cryptography are limited as the seed can easily be indentified. \n",
    "\n",
    "The seed function is called using the numpy.random.seed function, setting the starting point as the same for each time the funciton is called leading to the same data being generated."
   ]
  },
  {
   "cell_type": "markdown",
   "metadata": {},
   "source": [
    "Within the below example, the seed is not set, therefore the starting point of the the function is different every time. "
   ]
  },
  {
   "cell_type": "code",
   "execution_count": null,
   "metadata": {},
   "outputs": [],
   "source": [
    "import numpy as np\n",
    "np.random.rand(4)"
   ]
  },
  {
   "cell_type": "markdown",
   "metadata": {},
   "source": [
    "To demonstrate the randomn numbers generated because there is no seed set when called."
   ]
  },
  {
   "cell_type": "code",
   "execution_count": null,
   "metadata": {},
   "outputs": [],
   "source": [
    "np.random.rand(4)"
   ]
  },
  {
   "cell_type": "markdown",
   "metadata": {},
   "source": [
    "The function np.random.seed has been called for the following two functions, this wil demontrate that the seed functions sets the initial starting point of the algorithms, resulting with the same output"
   ]
  },
  {
   "cell_type": "code",
   "execution_count": null,
   "metadata": {},
   "outputs": [],
   "source": [
    "np.random.seed(0) ; np.random.rand(4)"
   ]
  },
  {
   "cell_type": "markdown",
   "metadata": {},
   "source": [
    "And lets try that again to see what numbers are generated."
   ]
  },
  {
   "cell_type": "code",
   "execution_count": null,
   "metadata": {},
   "outputs": [],
   "source": [
    "np.random.seed(0) ; np.random.rand(4)"
   ]
  },
  {
   "cell_type": "markdown",
   "metadata": {},
   "source": [
    "<a id='ref'></a>\n",
    "## References: \n",
    "\n",
    "1.\thttps://sites.engineering.ucsb.edu/~shell/che210d/numpy.pdf\n",
    "2.\thttps://docs.scipy.org/doc/numpy/user/quickstart.html\n",
    "3.\thttps://pynative.com/python-random-module/\n",
    "4.\thttps://webcourses.ucf.edu/courses/1249560/pages/python-lists-vs-numpy-arrays-what-is-the-difference \n",
    "5.\thttps://www.quora.com/Why-are-random-numbers-important\n",
    "6.\thttps://docs.scipy.org/doc/numpy-1.15.1/reference/routines.random.html\n",
    "7.\thttps://www.ntu.edu.sg/home/ehchua/programming/webprogramming/Python4_DataAnalysis.html\n",
    "8.\thttps://kite.com/python/docs/numpy.random.permutation\n",
    "9.\thttps://www.investopedia.com/terms/p/probabilitydistribution.asp\n",
    "10. https://support.minitab.com/en-us/minitab-express/1/help-and-how-to/basic-statistics/probability-distributions/supporting-topics/basics/continuous-and-discrete-probability-distributions/?fbclid=IwAR3hUiwmE98RazLo1YITYtoyduf60Se6ujBdGWR8o55p14JtMTp9ZhMu-vI\n",
    "11. https://towardsdatascience.com/fun-with-the-binomial-distribution-96a5ecabf65b\n",
    "12. https://courses.lumenlearning.com/introstats1/chapter/the-exponential-distribution/\n",
    "13. http://pages.cs.wisc.edu/~dsmyers/cs547/lecture_9_memoryless_property.pdf.\n",
    "14. https://www.datacamp.com/community/tutorials/probability-distributions-python\n",
    "15. https://machinelearningmastery.com/continuous-probability-distributions-for-machine-learning/\n",
    "16. https://www.varsitytutors.com/hotmath/hotmath_help/topics/normal-distribution-of-data\n",
    "17. http://mathworld.wolfram.com/NormalDistribution.html\n",
    "18. https://statisticsbyjim.com/basics/normal-distribution\n",
    "19. ttps://www.mathsisfun.com/data/standard-normal-distribution.html\n",
    "20. https://www.theanalysisfactor.com/differences-between-normal-and-poisson-distributions\n",
    "21. https://towardsdatascience.com/the-poisson-distribution-and-poisson-process-explained-4e2cb17d459\n",
    "22. https://www.statisticshowto.datasciencecentral.com/poisson-distribution/\n",
    "\n",
    "\n",
    "17. https://stattrek.com/probability-distributions/negative-binomial.aspx\n",
    "\n",
    "\n",
    "\n",
    " \n",
    "(Section 3) http://hplgit.github.io/primer.html/doc/pub/random/._random-solarized001.html\n",
    "\n",
    "\n",
    "\n",
    "\n",
    "\n",
    " (Section 4) https://www.sicara.ai/blog/2019-01-28-how-computer-generate-random-numbers\n",
    "             https://www.pluralsight.com/guides/almost-random-numbers\n",
    "             https://www.geeksforgeeks.org/pseudo-random-number-generator-prng/\n",
    "             https://stackoverflow.com/questions/21494489/what-does-numpy-random-seed0-do\n",
    "             https://machinelearningmastery.com/how-to-generate-random-numbers-in-python/"
   ]
  },
  {
   "cell_type": "code",
   "execution_count": null,
   "metadata": {},
   "outputs": [],
   "source": []
  }
 ],
 "metadata": {
  "kernelspec": {
   "display_name": "Python 3",
   "language": "python",
   "name": "python3"
  },
  "language_info": {
   "codemirror_mode": {
    "name": "ipython",
    "version": 3
   },
   "file_extension": ".py",
   "mimetype": "text/x-python",
   "name": "python",
   "nbconvert_exporter": "python",
   "pygments_lexer": "ipython3",
   "version": "3.7.1"
  }
 },
 "nbformat": 4,
 "nbformat_minor": 2
}
